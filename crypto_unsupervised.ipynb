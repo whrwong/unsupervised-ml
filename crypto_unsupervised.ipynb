{
 "cells": [
  {
   "cell_type": "code",
   "execution_count": 44,
   "id": "fd6c4cd6",
   "metadata": {},
   "outputs": [],
   "source": [
    "import pandas as pd\n",
    "import numpy as np"
   ]
  },
  {
   "cell_type": "code",
   "execution_count": 45,
   "id": "a77e2230",
   "metadata": {
    "scrolled": false
   },
   "outputs": [
    {
     "data": {
      "text/plain": [
       "<bound method DataFrame.info of             CoinName Algorithm  IsTrading ProofType  TotalCoinsMined  \\\n",
       "0            42 Coin    Scrypt       True   PoW/PoS     4.199995e+01   \n",
       "1            365Coin       X11       True   PoW/PoS              NaN   \n",
       "2            404Coin    Scrypt       True   PoW/PoS     1.055185e+09   \n",
       "3          SixEleven   SHA-256       True       PoW              NaN   \n",
       "4                808   SHA-256       True   PoW/PoS     0.000000e+00   \n",
       "...              ...       ...        ...       ...              ...   \n",
       "1247     BitcoinPlus    Scrypt       True       PoS     1.283270e+05   \n",
       "1248      DivotyCoin    Scrypt      False   PoW/PoS     2.149121e+07   \n",
       "1249     Giotto Coin    Scrypt      False   PoW/PoS              NaN   \n",
       "1250  OpenSourceCoin   SHA-256      False   PoW/PoS              NaN   \n",
       "1251       SteamPunk       PoS      False       PoS              NaN   \n",
       "\n",
       "     TotalCoinSupply  \n",
       "0                 42  \n",
       "1         2300000000  \n",
       "2          532000000  \n",
       "3             611000  \n",
       "4                  0  \n",
       "...              ...  \n",
       "1247         1000000  \n",
       "1248       100000000  \n",
       "1249       233100000  \n",
       "1250        21000000  \n",
       "1251        40000000  \n",
       "\n",
       "[1252 rows x 6 columns]>"
      ]
     },
     "execution_count": 45,
     "metadata": {},
     "output_type": "execute_result"
    }
   ],
   "source": [
    "\n",
    "\n",
    "#pd.get_option(\"display.max_columns\", None)\n",
    "#data = pd.read_csv('crypto_data.csv', index_col=None)\n",
    "\n",
    "data = pd.read_csv('crypto_data.csv', usecols=['CoinName','Algorithm','IsTrading','ProofType','TotalCoinsMined','TotalCoinSupply'])\n",
    "\n",
    "data.head()\n",
    "#print(data.head)\n",
    "data.info"
   ]
  },
  {
   "cell_type": "code",
   "execution_count": 46,
   "id": "56944ce3",
   "metadata": {},
   "outputs": [
    {
     "name": "stdout",
     "output_type": "stream",
     "text": [
      "0        True\n",
      "1        True\n",
      "2        True\n",
      "3        True\n",
      "4        True\n",
      "        ...  \n",
      "1247     True\n",
      "1248    False\n",
      "1249    False\n",
      "1250    False\n",
      "1251    False\n",
      "Name: IsTrading, Length: 1252, dtype: bool\n"
     ]
    },
    {
     "data": {
      "text/plain": [
       "<bound method NDFrame.head of          CoinName    Algorithm  IsTrading ProofType  TotalCoinsMined  \\\n",
       "0         42 Coin       Scrypt       True   PoW/PoS     4.199995e+01   \n",
       "1         365Coin          X11       True   PoW/PoS              NaN   \n",
       "2         404Coin       Scrypt       True   PoW/PoS     1.055185e+09   \n",
       "3       SixEleven      SHA-256       True       PoW              NaN   \n",
       "4             808      SHA-256       True   PoW/PoS     0.000000e+00   \n",
       "...           ...          ...        ...       ...              ...   \n",
       "1243   Super Zero       Ethash       True       PoW              NaN   \n",
       "1244          UOS      SHA-256       True      DPoI              NaN   \n",
       "1245       Beldex  CryptoNight       True       PoW     9.802226e+08   \n",
       "1246      Horizen     Equihash       True       PoW     7.296538e+06   \n",
       "1247  BitcoinPlus       Scrypt       True       PoS     1.283270e+05   \n",
       "\n",
       "     TotalCoinSupply  \n",
       "0                 42  \n",
       "1         2300000000  \n",
       "2          532000000  \n",
       "3             611000  \n",
       "4                  0  \n",
       "...              ...  \n",
       "1243      1000000000  \n",
       "1244      1000000000  \n",
       "1245      1400222610  \n",
       "1246        21000000  \n",
       "1247         1000000  \n",
       "\n",
       "[1144 rows x 6 columns]>"
      ]
     },
     "execution_count": 46,
     "metadata": {},
     "output_type": "execute_result"
    }
   ],
   "source": [
    "print(data[\"IsTrading\"])\n",
    "crypto_traded = data[data['IsTrading']==True]\n",
    "crypto_traded.head\n",
    "\n",
    "\n"
   ]
  },
  {
   "cell_type": "code",
   "execution_count": 47,
   "id": "9363d78c",
   "metadata": {},
   "outputs": [
    {
     "data": {
      "text/plain": [
       "<bound method DataFrame.info of          CoinName    Algorithm  IsTrading ProofType  TotalCoinsMined  \\\n",
       "0         42 Coin       Scrypt       True   PoW/PoS     4.199995e+01   \n",
       "2         404Coin       Scrypt       True   PoW/PoS     1.055185e+09   \n",
       "4             808      SHA-256       True   PoW/PoS     0.000000e+00   \n",
       "5       EliteCoin          X13       True   PoW/PoS     2.927942e+10   \n",
       "7         Bitcoin      SHA-256       True       PoW     1.792718e+07   \n",
       "...           ...          ...        ...       ...              ...   \n",
       "1238       ZEPHYR      SHA-256       True      DPoS     2.000000e+09   \n",
       "1242      Gapcoin       Scrypt       True   PoW/PoS     1.493105e+07   \n",
       "1245       Beldex  CryptoNight       True       PoW     9.802226e+08   \n",
       "1246      Horizen     Equihash       True       PoW     7.296538e+06   \n",
       "1247  BitcoinPlus       Scrypt       True       PoS     1.283270e+05   \n",
       "\n",
       "     TotalCoinSupply  \n",
       "0                 42  \n",
       "2          532000000  \n",
       "4                  0  \n",
       "5       314159265359  \n",
       "7           21000000  \n",
       "...              ...  \n",
       "1238      2000000000  \n",
       "1242       250000000  \n",
       "1245      1400222610  \n",
       "1246        21000000  \n",
       "1247         1000000  \n",
       "\n",
       "[685 rows x 6 columns]>"
      ]
     },
     "execution_count": 47,
     "metadata": {},
     "output_type": "execute_result"
    }
   ],
   "source": [
    "# using dropna() function  \n",
    "crypto_no_missing = crypto_traded.dropna()\n",
    "crypto_no_missing.info"
   ]
  },
  {
   "cell_type": "code",
   "execution_count": 48,
   "id": "c175a0d0",
   "metadata": {},
   "outputs": [
    {
     "data": {
      "text/plain": [
       "<bound method DataFrame.info of          CoinName    Algorithm  IsTrading ProofType  TotalCoinsMined  \\\n",
       "0         42 Coin       Scrypt       True   PoW/PoS     4.199995e+01   \n",
       "2         404Coin       Scrypt       True   PoW/PoS     1.055185e+09   \n",
       "5       EliteCoin          X13       True   PoW/PoS     2.927942e+10   \n",
       "7         Bitcoin      SHA-256       True       PoW     1.792718e+07   \n",
       "8        Ethereum       Ethash       True       PoW     1.076842e+08   \n",
       "...           ...          ...        ...       ...              ...   \n",
       "1238       ZEPHYR      SHA-256       True      DPoS     2.000000e+09   \n",
       "1242      Gapcoin       Scrypt       True   PoW/PoS     1.493105e+07   \n",
       "1245       Beldex  CryptoNight       True       PoW     9.802226e+08   \n",
       "1246      Horizen     Equihash       True       PoW     7.296538e+06   \n",
       "1247  BitcoinPlus       Scrypt       True       PoS     1.283270e+05   \n",
       "\n",
       "     TotalCoinSupply  \n",
       "0                 42  \n",
       "2          532000000  \n",
       "5       314159265359  \n",
       "7           21000000  \n",
       "8                  0  \n",
       "...              ...  \n",
       "1238      2000000000  \n",
       "1242       250000000  \n",
       "1245      1400222610  \n",
       "1246        21000000  \n",
       "1247         1000000  \n",
       "\n",
       "[532 rows x 6 columns]>"
      ]
     },
     "execution_count": 48,
     "metadata": {},
     "output_type": "execute_result"
    }
   ],
   "source": [
    "crypto_mined = crypto_no_missing[crypto_no_missing['TotalCoinsMined']> 0]\n",
    "crypto_mined.info"
   ]
  },
  {
   "cell_type": "code",
   "execution_count": 49,
   "id": "5c4911cb",
   "metadata": {},
   "outputs": [
    {
     "data": {
      "text/plain": [
       "<bound method DataFrame.info of         Algorithm ProofType  TotalCoinsMined TotalCoinSupply\n",
       "0          Scrypt   PoW/PoS     4.199995e+01              42\n",
       "2          Scrypt   PoW/PoS     1.055185e+09       532000000\n",
       "5             X13   PoW/PoS     2.927942e+10    314159265359\n",
       "7         SHA-256       PoW     1.792718e+07        21000000\n",
       "8          Ethash       PoW     1.076842e+08               0\n",
       "...           ...       ...              ...             ...\n",
       "1238      SHA-256      DPoS     2.000000e+09      2000000000\n",
       "1242       Scrypt   PoW/PoS     1.493105e+07       250000000\n",
       "1245  CryptoNight       PoW     9.802226e+08      1400222610\n",
       "1246     Equihash       PoW     7.296538e+06        21000000\n",
       "1247       Scrypt       PoS     1.283270e+05         1000000\n",
       "\n",
       "[532 rows x 4 columns]>"
      ]
     },
     "execution_count": 49,
     "metadata": {},
     "output_type": "execute_result"
    }
   ],
   "source": [
    "crypto_clean = crypto_mined.drop(['CoinName','IsTrading'], axis = 1)\n",
    "\n",
    "crypto_clean.info"
   ]
  },
  {
   "cell_type": "code",
   "execution_count": 50,
   "id": "99a0aad2",
   "metadata": {},
   "outputs": [
    {
     "data": {
      "text/plain": [
       "<bound method DataFrame.info of       DPOS  DPoS  HPoW  LPoS  POBh  PoA  PoC  PoS  PoS/LPoS  PoS/PoW  ...  \\\n",
       "0        0     0     0     0     0    0    0    0         0        0  ...   \n",
       "2        0     0     0     0     0    0    0    0         0        0  ...   \n",
       "5        0     0     0     0     0    0    0    0         0        0  ...   \n",
       "7        0     0     0     0     0    0    0    0         0        0  ...   \n",
       "8        0     0     0     0     0    0    0    0         0        0  ...   \n",
       "...    ...   ...   ...   ...   ...  ...  ...  ...       ...      ...  ...   \n",
       "1238     0     1     0     0     0    0    0    0         0        0  ...   \n",
       "1242     0     0     0     0     0    0    0    0         0        0  ...   \n",
       "1245     0     0     0     0     0    0    0    0         0        0  ...   \n",
       "1246     0     0     0     0     0    0    0    0         0        0  ...   \n",
       "1247     0     0     0     0     0    0    0    1         0        0  ...   \n",
       "\n",
       "      PoW/PoS  PoW/PoS   PoW/PoW  PoW/nPoS  Pos  Proof of Authority  \\\n",
       "0           1         0        0         0    0                   0   \n",
       "2           1         0        0         0    0                   0   \n",
       "5           1         0        0         0    0                   0   \n",
       "7           0         0        0         0    0                   0   \n",
       "8           0         0        0         0    0                   0   \n",
       "...       ...       ...      ...       ...  ...                 ...   \n",
       "1238        0         0        0         0    0                   0   \n",
       "1242        1         0        0         0    0                   0   \n",
       "1245        0         0        0         0    0                   0   \n",
       "1246        0         0        0         0    0                   0   \n",
       "1247        0         0        0         0    0                   0   \n",
       "\n",
       "      Proof of Trust  TPoS  Zero-Knowledge Proof  dPoW/PoW  \n",
       "0                  0     0                     0         0  \n",
       "2                  0     0                     0         0  \n",
       "5                  0     0                     0         0  \n",
       "7                  0     0                     0         0  \n",
       "8                  0     0                     0         0  \n",
       "...              ...   ...                   ...       ...  \n",
       "1238               0     0                     0         0  \n",
       "1242               0     0                     0         0  \n",
       "1245               0     0                     0         0  \n",
       "1246               0     0                     0         0  \n",
       "1247               0     0                     0         0  \n",
       "\n",
       "[532 rows x 25 columns]>"
      ]
     },
     "execution_count": 50,
     "metadata": {},
     "output_type": "execute_result"
    }
   ],
   "source": [
    "crypto_Alg_dummy = pd.get_dummies(crypto_clean[\"Algorithm\"])\n",
    "crypto_Alg_dummy.info\n",
    "crypto_Ptype_dummy = pd.get_dummies(crypto_clean[\"ProofType\"])\n",
    "crypto_Ptype_dummy.info\n"
   ]
  },
  {
   "cell_type": "code",
   "execution_count": 51,
   "id": "3964386b",
   "metadata": {},
   "outputs": [
    {
     "data": {
      "text/plain": [
       "<bound method DataFrame.info of       TotalCoinsMined TotalCoinSupply  1GB AES Pattern Search  536  Argon2d  \\\n",
       "0        4.199995e+01              42                       0    0        0   \n",
       "2        1.055185e+09       532000000                       0    0        0   \n",
       "5        2.927942e+10    314159265359                       0    0        0   \n",
       "7        1.792718e+07        21000000                       0    0        0   \n",
       "8        1.076842e+08               0                       0    0        0   \n",
       "...               ...             ...                     ...  ...      ...   \n",
       "1238     2.000000e+09      2000000000                       0    0        0   \n",
       "1242     1.493105e+07       250000000                       0    0        0   \n",
       "1245     9.802226e+08      1400222610                       0    0        0   \n",
       "1246     7.296538e+06        21000000                       0    0        0   \n",
       "1247     1.283270e+05         1000000                       0    0        0   \n",
       "\n",
       "      BLAKE256  Blake  Blake2S  Blake2b  C11  ...  PoW/PoS  PoW/PoS   PoW/PoW  \\\n",
       "0            0      0        0        0    0  ...        1         0        0   \n",
       "2            0      0        0        0    0  ...        1         0        0   \n",
       "5            0      0        0        0    0  ...        1         0        0   \n",
       "7            0      0        0        0    0  ...        0         0        0   \n",
       "8            0      0        0        0    0  ...        0         0        0   \n",
       "...        ...    ...      ...      ...  ...  ...      ...       ...      ...   \n",
       "1238         0      0        0        0    0  ...        0         0        0   \n",
       "1242         0      0        0        0    0  ...        1         0        0   \n",
       "1245         0      0        0        0    0  ...        0         0        0   \n",
       "1246         0      0        0        0    0  ...        0         0        0   \n",
       "1247         0      0        0        0    0  ...        0         0        0   \n",
       "\n",
       "      PoW/nPoS  Pos  Proof of Authority  Proof of Trust  TPoS  \\\n",
       "0            0    0                   0               0     0   \n",
       "2            0    0                   0               0     0   \n",
       "5            0    0                   0               0     0   \n",
       "7            0    0                   0               0     0   \n",
       "8            0    0                   0               0     0   \n",
       "...        ...  ...                 ...             ...   ...   \n",
       "1238         0    0                   0               0     0   \n",
       "1242         0    0                   0               0     0   \n",
       "1245         0    0                   0               0     0   \n",
       "1246         0    0                   0               0     0   \n",
       "1247         0    0                   0               0     0   \n",
       "\n",
       "      Zero-Knowledge Proof  dPoW/PoW  \n",
       "0                        0         0  \n",
       "2                        0         0  \n",
       "5                        0         0  \n",
       "7                        0         0  \n",
       "8                        0         0  \n",
       "...                    ...       ...  \n",
       "1238                     0         0  \n",
       "1242                     0         0  \n",
       "1245                     0         0  \n",
       "1246                     0         0  \n",
       "1247                     0         0  \n",
       "\n",
       "[532 rows x 98 columns]>"
      ]
     },
     "execution_count": 51,
     "metadata": {},
     "output_type": "execute_result"
    }
   ],
   "source": [
    "crypto_ProofType=crypto_clean['ProofType']\n",
    "crypto_Algorithm=crypto_clean['Algorithm']\n",
    "crypto_temp = crypto_clean.drop(['ProofType','Algorithm'], axis = 1)\n",
    "crypto_ready = pd.concat([crypto_temp, crypto_Alg_dummy,crypto_Ptype_dummy], axis=1)\n",
    "crypto_ready.info\n",
    "#crypto_ready.describe()\n",
    "#print(crypto_ProofType)\n",
    "#print(crypto_Algorithm)"
   ]
  },
  {
   "cell_type": "code",
   "execution_count": 52,
   "id": "ecbb82c6",
   "metadata": {},
   "outputs": [
    {
     "name": "stdout",
     "output_type": "stream",
     "text": [
      "[[-0.11710817 -0.1528703  -0.0433963  ... -0.0433963  -0.0433963\n",
      "  -0.0433963 ]\n",
      " [-0.09396955 -0.145009   -0.0433963  ... -0.0433963  -0.0433963\n",
      "  -0.0433963 ]\n",
      " [ 0.52494561  4.48942416 -0.0433963  ... -0.0433963  -0.0433963\n",
      "  -0.0433963 ]\n",
      " ...\n",
      " [-0.09561336 -0.13217937 -0.0433963  ... -0.0433963  -0.0433963\n",
      "  -0.0433963 ]\n",
      " [-0.11694817 -0.15255998 -0.0433963  ... -0.0433963  -0.0433963\n",
      "  -0.0433963 ]\n",
      " [-0.11710536 -0.15285552 -0.0433963  ... -0.0433963  -0.0433963\n",
      "  -0.0433963 ]]\n"
     ]
    }
   ],
   "source": [
    "# Scale the data\n",
    "from sklearn.preprocessing import StandardScaler\n",
    "crypto_scaled = StandardScaler().fit_transform(crypto_ready)\n",
    "print(crypto_scaled)\n"
   ]
  },
  {
   "cell_type": "code",
   "execution_count": 53,
   "id": "1c384cab",
   "metadata": {},
   "outputs": [],
   "source": [
    "# Scale the data\n",
    "#print(scaler.mean_)\n"
   ]
  },
  {
   "cell_type": "code",
   "execution_count": 54,
   "id": "271af716",
   "metadata": {},
   "outputs": [
    {
     "name": "stdout",
     "output_type": "stream",
     "text": [
      "[[ 5.57222327e-01  4.79755882e-01 -2.39893138e-03 ... -6.04653908e-03\n",
      "  -5.18744901e-03 -4.05902922e-03]\n",
      " [ 1.74926416e-02 -3.33789043e-02 -4.56428803e-02 ...  1.48604285e-02\n",
      "   3.69549950e-02 -2.97760600e-02]\n",
      " [-1.58304550e-02 -5.82827741e-03  9.06445296e-03 ... -4.41757807e-03\n",
      "   1.70056180e-03  1.07313949e-02]\n",
      " ...\n",
      " [-0.00000000e+00 -1.79237075e-17 -2.00342075e-01 ... -2.56125948e-01\n",
      "  -3.05311332e-16 -1.66533454e-16]\n",
      " [ 0.00000000e+00 -7.84898783e-17 -1.56672196e-01 ...  4.32154217e-01\n",
      "  -2.18575158e-16 -2.91433544e-16]\n",
      " [ 0.00000000e+00 -2.94004408e-17  1.46579752e-01 ...  1.82191226e-02\n",
      "   6.93889390e-18  5.82867088e-16]]\n"
     ]
    },
    {
     "data": {
      "text/plain": [
       "74"
      ]
     },
     "execution_count": 54,
     "metadata": {},
     "output_type": "execute_result"
    }
   ],
   "source": [
    "from sklearn.decomposition import PCA\n",
    "crypto_pca = PCA(n_components=0.9)\n",
    "crypto_pca.fit(crypto_scaled)\n",
    "crypto_components = crypto_pca.components_ \n",
    "print(crypto_components)\n",
    "crypto_pca.n_components_\n"
   ]
  },
  {
   "cell_type": "code",
   "execution_count": 55,
   "id": "7a1ba135",
   "metadata": {},
   "outputs": [
    {
     "name": "stdout",
     "output_type": "stream",
     "text": [
      "              0             1             2             3             4   \\\n",
      "0   5.572223e-01  4.797559e-01 -2.398931e-03  9.213225e-03 -2.410914e-03   \n",
      "1   1.749264e-02 -3.337890e-02 -4.564288e-02  3.909477e-02 -4.564115e-02   \n",
      "2  -1.583045e-02 -5.828277e-03  9.064453e-03 -1.634366e-02  9.064632e-03   \n",
      "3  -7.267981e-04  6.917681e-04 -3.949614e-05  5.343963e-05 -3.953818e-05   \n",
      "4   1.096722e-25 -2.100696e-15  7.113281e-16 -1.040836e-15  1.026954e-15   \n",
      "..           ...           ...           ...           ...           ...   \n",
      "69  0.000000e+00 -2.736371e-18 -1.580140e-01  4.020425e-02 -3.224490e-02   \n",
      "70  0.000000e+00 -2.634398e-16 -1.010139e-01 -4.612589e-02  3.691515e-02   \n",
      "71 -0.000000e+00 -1.792371e-17 -2.003421e-01 -1.028402e-01  8.242125e-02   \n",
      "72  0.000000e+00 -7.848988e-17 -1.566722e-01 -8.923984e-02  4.092892e-02   \n",
      "73  0.000000e+00 -2.940044e-17  1.465798e-01  7.958727e-02  6.052484e-02   \n",
      "\n",
      "              5             6             7             8             9   ...  \\\n",
      "0   1.142246e-02 -3.463382e-03 -6.607475e-03  3.812229e-03 -6.391159e-03  ...   \n",
      "1  -5.116663e-03 -7.955741e-02  3.972378e-02 -6.436636e-02 -4.195561e-03  ...   \n",
      "2  -5.343803e-03  1.577417e-02 -1.581818e-02  1.250310e-02 -4.788876e-03  ...   \n",
      "3   1.886028e-05 -6.703129e-05  4.704991e-05 -7.221532e-05  5.332665e-06  ...   \n",
      "4  -2.596712e-16  1.136923e-15 -1.230172e-15  9.255229e-16 -4.179064e-16  ...   \n",
      "..           ...           ...           ...           ...           ...  ...   \n",
      "69 -1.060870e-13 -7.595920e-15  5.427236e-01 -6.335210e-14 -9.479917e-14  ...   \n",
      "70 -1.055336e-13  2.015315e-15 -6.488324e-02 -3.265530e-14  9.350008e-14  ...   \n",
      "71 -4.132198e-14  4.966774e-14 -7.698128e-02  6.295181e-14  7.525664e-15  ...   \n",
      "72 -1.380976e-13  7.331809e-15 -5.153806e-02 -6.452824e-14 -2.583437e-14  ...   \n",
      "73 -1.994932e-15  3.688629e-14  8.562984e-02  5.325254e-14  3.935567e-14  ...   \n",
      "\n",
      "              88            89            90            91            92  \\\n",
      "0  -7.172293e-02 -4.514581e-03 -3.814883e-03 -6.580603e-03  8.487989e-03   \n",
      "1   4.053297e-01  6.752619e-03  6.702707e-03  4.546718e-02  2.168965e-02   \n",
      "2  -1.952137e-01 -7.566021e-03 -7.585392e-03 -9.592148e-03 -2.852118e-03   \n",
      "3   5.124799e-04  1.331028e-05  1.425090e-05  4.696135e-05  6.128242e-05   \n",
      "4  -1.348921e-14 -4.753142e-16 -5.585810e-16 -1.054712e-15 -1.838807e-16   \n",
      "..           ...           ...           ...           ...           ...   \n",
      "69  1.928145e-15  1.719054e-01  2.621278e-02 -1.457168e-16 -1.400269e-14   \n",
      "70 -3.053113e-16 -2.059978e-01  3.811507e-01 -1.387779e-17  1.260103e-14   \n",
      "71  2.220446e-16 -1.093046e-01 -2.027528e-01 -5.204170e-17 -3.382017e-14   \n",
      "72  1.554312e-15  6.624036e-02 -2.572716e-01 -1.595946e-16  1.577904e-14   \n",
      "73 -3.157197e-16 -3.644735e-01 -9.989730e-02  1.405126e-16 -2.423756e-14   \n",
      "\n",
      "              93            94            95            96            97  \n",
      "0   6.981648e-02 -6.075108e-03 -6.046539e-03 -5.187449e-03 -4.059029e-03  \n",
      "1   5.528850e-02  1.486071e-02  1.486043e-02  3.695499e-02 -2.977606e-02  \n",
      "2   1.305836e-01 -4.416479e-03 -4.417578e-03  1.700562e-03  1.073139e-02  \n",
      "3  -1.640223e-02  1.492728e-05  1.491333e-05  9.768070e-06 -3.618267e-05  \n",
      "4   9.898366e-03 -2.463307e-16 -3.330669e-16  1.665335e-16  7.771561e-16  \n",
      "..           ...           ...           ...           ...           ...  \n",
      "69 -1.665335e-16  4.499177e-02 -4.499177e-02 -1.387779e-16 -1.387779e-16  \n",
      "70  2.775558e-17 -6.505207e-02  6.505207e-02  8.326673e-17 -2.775558e-17  \n",
      "71 -1.387779e-17  2.561259e-01 -2.561259e-01 -3.053113e-16 -1.665335e-16  \n",
      "72 -1.249001e-16 -4.321542e-01  4.321542e-01 -2.185752e-16 -2.914335e-16  \n",
      "73  1.387779e-17 -1.821912e-02  1.821912e-02  6.938894e-18  5.828671e-16  \n",
      "\n",
      "[74 rows x 98 columns]\n"
     ]
    }
   ],
   "source": [
    "from sklearn.manifold import TSNE\n",
    "#import pandas as pd\n",
    "from numpy import reshape\n",
    "import seaborn as sns\n",
    "\n",
    "loadings = pd.DataFrame(crypto_components)\n",
    "print(loadings)"
   ]
  },
  {
   "cell_type": "code",
   "execution_count": 56,
   "id": "c27145cd",
   "metadata": {
    "scrolled": true
   },
   "outputs": [
    {
     "name": "stdout",
     "output_type": "stream",
     "text": [
      "[[  30.35283     123.394264  ]\n",
      " [ -24.182463    -77.274925  ]\n",
      " [   2.921893     63.17379   ]\n",
      " [  54.783543     98.37122   ]\n",
      " [   4.859694    -65.29116   ]\n",
      " [   3.2514772    97.51944   ]\n",
      " [ 118.75376     122.270744  ]\n",
      " [ -18.307682      8.615708  ]\n",
      " [ 158.06215      49.911037  ]\n",
      " [ 101.19377    -101.82205   ]\n",
      " [ -47.003235    -53.161034  ]\n",
      " [-154.33304      37.721474  ]\n",
      " [  19.865816      9.444203  ]\n",
      " [ -32.829533    111.00633   ]\n",
      " [-110.57473     128.6558    ]\n",
      " [   4.446332    169.40436   ]\n",
      " [  59.6078       60.161156  ]\n",
      " [ 117.10293      37.132484  ]\n",
      " [ -67.61492     126.911644  ]\n",
      " [ -55.746117   -133.16457   ]\n",
      " [  92.68981      61.233875  ]\n",
      " [  39.231846    -12.445107  ]\n",
      " [  76.16353     131.92474   ]\n",
      " [-130.24387      76.98026   ]\n",
      " [ -72.71477     -34.01883   ]\n",
      " [ 142.85535       9.792198  ]\n",
      " [  88.24168      94.177635  ]\n",
      " [ -93.80728    -109.750404  ]\n",
      " [  48.543644    160.63979   ]\n",
      " [ -58.56217      86.52948   ]\n",
      " [  13.995519    -98.621666  ]\n",
      " [ -25.20554      44.234398  ]\n",
      " [ 127.89086      79.67917   ]\n",
      " [ -36.53042     -17.984486  ]\n",
      " [ -98.06829      -2.8171802 ]\n",
      " [  36.639492    -68.41959   ]\n",
      " [ -64.29904      -3.9628503 ]\n",
      " [ -41.920395    157.05449   ]\n",
      " [  54.58812     -39.744484  ]\n",
      " [ -16.084631    -41.2542    ]\n",
      " [  20.361603    -37.423466  ]\n",
      " [ -55.374653    -92.01671   ]\n",
      " [ 104.58647     -62.19266   ]\n",
      " [-135.28064      -1.0296923 ]\n",
      " [ -26.297348     76.664795  ]\n",
      " [ 162.25494     -26.408401  ]\n",
      " [ 121.891975    -27.730253  ]\n",
      " [ 141.85928     -72.13706   ]\n",
      " [ -19.469603   -111.72605   ]\n",
      " [  86.224686    -31.868345  ]\n",
      " [  79.4021       30.308172  ]\n",
      " [  30.729837     78.20925   ]\n",
      " [ -89.98063      59.422375  ]\n",
      " [-114.54778      33.160294  ]\n",
      " [  -5.7183924   132.48422   ]\n",
      " [  49.663223     20.752476  ]\n",
      " [ -10.187806   -149.83481   ]\n",
      " [  52.411255   -100.94451   ]\n",
      " [  73.75947    -134.50499   ]\n",
      " [ -92.70312      93.88365   ]\n",
      " [-108.250465    -37.936485  ]\n",
      " [ 102.89682       3.4060135 ]\n",
      " [ -78.85642      27.029549  ]\n",
      " [  69.93182      -4.027293  ]\n",
      " [-123.41376     -77.48922   ]\n",
      " [   2.220104     31.837906  ]\n",
      " [  31.322605     44.61711   ]\n",
      " [ -82.56726     -68.23943   ]\n",
      " [  71.24583     -70.375656  ]\n",
      " [ -55.73384      53.302036  ]\n",
      " [   0.32262757  -14.433676  ]\n",
      " [ -45.88595      20.663784  ]\n",
      " [  28.968554   -135.25223   ]\n",
      " [-149.76143     -38.72352   ]]\n"
     ]
    }
   ],
   "source": [
    "n_components = 2\n",
    "tsne = TSNE(n_components)\n",
    "tsne_result = tsne.fit_transform(loadings)\n",
    "\n",
    "print(tsne_result)"
   ]
  },
  {
   "cell_type": "code",
   "execution_count": 57,
   "id": "99acd2e4",
   "metadata": {},
   "outputs": [
    {
     "data": {
      "text/plain": [
       "<matplotlib.collections.PathCollection at 0x125669c10>"
      ]
     },
     "execution_count": 57,
     "metadata": {},
     "output_type": "execute_result"
    },
    {
     "data": {
      "image/png": "[encoded data removed]",
      "text/plain": [
       "<Figure size 576x576 with 1 Axes>"
      ]
     },
     "metadata": {
      "needs_background": "light"
     },
     "output_type": "display_data"
    }
   ],
   "source": [
    "import matplotlib.pyplot as plt\n",
    "fig = plt.figure(figsize = (8,8))\n",
    "ax = fig.add_subplot(1,1,1) \n",
    "ax.set_xlabel('T-SNE Component 1', fontsize = 15)\n",
    "ax.set_ylabel('T-SNE Component 2', fontsize = 15)\n",
    "ax.set_title('2 component T-SNE', fontsize = 20)\n",
    "plt.scatter(tsne_result[:,0] , tsne_result[:,1])"
   ]
  },
  {
   "cell_type": "code",
   "execution_count": 58,
   "id": "5d03aabc",
   "metadata": {
    "scrolled": true
   },
   "outputs": [],
   "source": [
    "#print(tsne_result)"
   ]
  },
  {
   "cell_type": "code",
   "execution_count": 59,
   "id": "dd108f91",
   "metadata": {},
   "outputs": [],
   "source": [
    "#import pandas as pd\n",
    "#import numpy as np\n",
    "#import matplotlib.pyplot as plt\n",
    "%matplotlib inline \n",
    "from sklearn.cluster import KMeans\n",
    "from sklearn import datasets\n",
    "\n",
    "tsne_df=pd.DataFrame(tsne_result)\n",
    "distortions = []\n",
    "K = range(1,10)\n",
    "for k in K:\n",
    "    kmeanModel = KMeans(n_clusters=k)\n",
    "    kmeanModel.fit(tsne_df)\n",
    "    distortions.append(kmeanModel.inertia_)\n"
   ]
  },
  {
   "cell_type": "code",
   "execution_count": 60,
   "id": "0fa5d156",
   "metadata": {
    "scrolled": false
   },
   "outputs": [
    {
     "data": {
      "image/png": "[encoded data removed]",
      "text/plain": [
       "<Figure size 1152x576 with 1 Axes>"
      ]
     },
     "metadata": {
      "needs_background": "light"
     },
     "output_type": "display_data"
    }
   ],
   "source": [
    "plt.figure(figsize=(16,8))\n",
    "plt.plot(K, distortions, 'bx-')\n",
    "plt.xlabel('k')\n",
    "plt.ylabel('Distortion')\n",
    "plt.title('The Elbow Method showing the optimal k')\n",
    "plt.show()"
   ]
  },
  {
   "cell_type": "code",
   "execution_count": null,
   "id": "faf2fc3c",
   "metadata": {},
   "outputs": [],
   "source": []
  }
 ],
 "metadata": {
  "kernelspec": {
   "display_name": "Python 3 (ipykernel)",
   "language": "python",
   "name": "python3"
  },
  "language_info": {
   "codemirror_mode": {
    "name": "ipython",
    "version": 3
   },
   "file_extension": ".py",
   "mimetype": "text/x-python",
   "name": "python",
   "nbconvert_exporter": "python",
   "pygments_lexer": "ipython3",
   "version": "3.9.6"
  }
 },
 "nbformat": 4,
 "nbformat_minor": 5
}
